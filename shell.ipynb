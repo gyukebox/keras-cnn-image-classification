{
  "nbformat": 4,
  "nbformat_minor": 0,
  "metadata": {
    "colab": {
      "name": "shell.ipynb",
      "provenance": [],
      "collapsed_sections": [],
      "toc_visible": true,
      "mount_file_id": "1ABMbNkIU6Pjq2_8g999w8bdlgL_MOnXV",
      "authorship_tag": "ABX9TyOTEZJ70lD7Ucv+YJXrMnIL",
      "include_colab_link": true
    },
    "kernelspec": {
      "name": "python3",
      "display_name": "Python 3"
    },
    "accelerator": "GPU"
  },
  "cells": [
    {
      "cell_type": "markdown",
      "metadata": {
        "id": "view-in-github",
        "colab_type": "text"
      },
      "source": [
        "<a href=\"https://colab.research.google.com/github/gyukebox/keras-cnn-image-classification/blob/main/shell.ipynb\" target=\"_parent\"><img src=\"https://colab.research.google.com/assets/colab-badge.svg\" alt=\"Open In Colab\"/></a>"
      ]
    },
    {
      "cell_type": "markdown",
      "metadata": {
        "id": "4zkTfXvx-Uxv"
      },
      "source": [
        "## 1. Unzip and Load Data"
      ]
    },
    {
      "cell_type": "code",
      "metadata": {
        "id": "9P-JPdEulUTq"
      },
      "source": [
        "!tar xzf drive/MyDrive/Colab\\ Notebooks/datascience-final/data.tar.gz"
      ],
      "execution_count": null,
      "outputs": []
    },
    {
      "cell_type": "code",
      "metadata": {
        "id": "nMXOwC0Teq_A"
      },
      "source": [
        "!unzip -uq drive/MyDrive/Colab\\ Notebooks/datascience-final/images.zip -d data"
      ],
      "execution_count": null,
      "outputs": []
    },
    {
      "cell_type": "code",
      "metadata": {
        "colab": {
          "base_uri": "https://localhost:8080/"
        },
        "id": "YZmNWwfSlatJ",
        "outputId": "37bc3ee2-aeee-46a0-d0b6-838dc8e257e5"
      },
      "source": [
        "import os\n",
        "from tensorflow.keras.preprocessing import image_dataset_from_directory\n",
        "\n",
        "train_data = image_dataset_from_directory('data/images', labels='inferred', label_mode='categorical', validation_split=0.2, subset='training', seed=1557, color_mode='rgb', image_size=(300, 300), batch_size=64)\n",
        "test_data = image_dataset_from_directory('data/images', labels='inferred', label_mode='categorical', validation_split=0.2, subset='validation', seed=1557, color_mode='rgb', image_size=(300, 300), batch_size=64)"
      ],
      "execution_count": null,
      "outputs": [
        {
          "output_type": "stream",
          "text": [
            "Found 45000 files belonging to 3 classes.\n",
            "Using 36000 files for training.\n",
            "Found 45000 files belonging to 3 classes.\n",
            "Using 9000 files for validation.\n"
          ],
          "name": "stdout"
        }
      ]
    },
    {
      "cell_type": "code",
      "metadata": {
        "colab": {
          "base_uri": "https://localhost:8080/"
        },
        "id": "sRtfsQ3Ilh-9",
        "outputId": "d4e2e0db-c365-4163-ae17-0aafd1cb3318"
      },
      "source": [
        "classnames = train_data.class_names\n",
        "\n",
        "classnames"
      ],
      "execution_count": null,
      "outputs": [
        {
          "output_type": "execute_result",
          "data": {
            "text/plain": [
              "['exterior', 'food', 'interior']"
            ]
          },
          "metadata": {
            "tags": []
          },
          "execution_count": 4
        }
      ]
    },
    {
      "cell_type": "code",
      "metadata": {
        "colab": {
          "base_uri": "https://localhost:8080/"
        },
        "id": "EQ7jP8HOD1gh",
        "outputId": "e402b639-d11f-4b1c-e3cf-c4beafc4be2d"
      },
      "source": [
        "train_data.take(1)"
      ],
      "execution_count": null,
      "outputs": [
        {
          "output_type": "execute_result",
          "data": {
            "text/plain": [
              "<TakeDataset shapes: ((None, 300, 300, 3), (None, 3)), types: (tf.float32, tf.float32)>"
            ]
          },
          "metadata": {
            "tags": []
          },
          "execution_count": 5
        }
      ]
    },
    {
      "cell_type": "markdown",
      "metadata": {
        "id": "cqe8HcSu-Zl_"
      },
      "source": [
        "## 2. Define Model"
      ]
    },
    {
      "cell_type": "code",
      "metadata": {
        "colab": {
          "base_uri": "https://localhost:8080/"
        },
        "id": "s2MGj7o7PMcM",
        "outputId": "5d63e04d-5d82-4a9e-c6f1-2b0a9a897431"
      },
      "source": [
        "from tensorflow.keras.models import Sequential\n",
        "from tensorflow.keras.layers import Input, Conv2D, MaxPooling2D, Dense, Flatten\n",
        "\n",
        "model = Sequential([\n",
        "    Input(shape=(300, 300, 3), name='input_layer'),\n",
        "    Conv2D(16, kernel_size=3, activation='relu', name='conv_layer1'),\n",
        "    MaxPooling2D(pool_size=2, name='pool_layer1'),\n",
        "    Conv2D(16, kernel_size=2, activation='relu', name='conv_layer2'),\n",
        "    MaxPooling2D(pool_size=2, name='pool_layer2'),\n",
        "    Conv2D(16, kernel_size=3, activation='relu', name='conv_layer3'),\n",
        "    MaxPooling2D(pool_size=2, name='pool_layer3'),\n",
        "    Flatten(),\n",
        "    Dense(16, activation='relu'),\n",
        "    Dense(32, activation='relu'),\n",
        "    Dense(3, activation='softmax', name='output_layer')\n",
        "])\n",
        "\n",
        "model.summary()"
      ],
      "execution_count": null,
      "outputs": [
        {
          "output_type": "stream",
          "text": [
            "Model: \"sequential\"\n",
            "_________________________________________________________________\n",
            "Layer (type)                 Output Shape              Param #   \n",
            "=================================================================\n",
            "conv_layer1 (Conv2D)         (None, 298, 298, 16)      448       \n",
            "_________________________________________________________________\n",
            "pool_layer1 (MaxPooling2D)   (None, 149, 149, 16)      0         \n",
            "_________________________________________________________________\n",
            "conv_layer2 (Conv2D)         (None, 148, 148, 16)      1040      \n",
            "_________________________________________________________________\n",
            "pool_layer2 (MaxPooling2D)   (None, 74, 74, 16)        0         \n",
            "_________________________________________________________________\n",
            "conv_layer3 (Conv2D)         (None, 72, 72, 16)        2320      \n",
            "_________________________________________________________________\n",
            "pool_layer3 (MaxPooling2D)   (None, 36, 36, 16)        0         \n",
            "_________________________________________________________________\n",
            "flatten (Flatten)            (None, 20736)             0         \n",
            "_________________________________________________________________\n",
            "dense (Dense)                (None, 16)                331792    \n",
            "_________________________________________________________________\n",
            "dense_1 (Dense)              (None, 32)                544       \n",
            "_________________________________________________________________\n",
            "output_layer (Dense)         (None, 3)                 99        \n",
            "=================================================================\n",
            "Total params: 336,243\n",
            "Trainable params: 336,243\n",
            "Non-trainable params: 0\n",
            "_________________________________________________________________\n"
          ],
          "name": "stdout"
        }
      ]
    },
    {
      "cell_type": "markdown",
      "metadata": {
        "id": "uagXeYDi-b6Y"
      },
      "source": [
        "## 3. Train Model\n",
        "\n",
        "1. Train Model\n",
        "2. Plot Loss Graph"
      ]
    },
    {
      "cell_type": "code",
      "metadata": {
        "colab": {
          "base_uri": "https://localhost:8080/"
        },
        "id": "reTIsOiLfsvX",
        "outputId": "895426b3-47ac-4ead-886a-0f886d82a701"
      },
      "source": [
        "import os\n",
        "\n",
        "model.compile(optimizer='adam', loss='categorical_crossentropy', metrics=['accuracy'])\n",
        "history = model.fit(train_data, batch_size=64, validation_data=test_data, validation_batch_size=64, epochs=5, verbose=1)\n",
        "\n",
        "model.save('drive/MyDrive/Colab Notebooks/datascience-final/output/model-201611306')"
      ],
      "execution_count": null,
      "outputs": [
        {
          "output_type": "stream",
          "text": [
            "Epoch 1/5\n",
            "563/563 [==============================] - 122s 216ms/step - loss: 1.3287 - accuracy: 0.5437 - val_loss: 0.6011 - val_accuracy: 0.7486\n",
            "Epoch 2/5\n",
            "563/563 [==============================] - 119s 211ms/step - loss: 0.5169 - accuracy: 0.7853 - val_loss: 0.4972 - val_accuracy: 0.8039\n",
            "Epoch 3/5\n",
            "563/563 [==============================] - 116s 205ms/step - loss: 0.3972 - accuracy: 0.8411 - val_loss: 0.5198 - val_accuracy: 0.7896\n",
            "Epoch 4/5\n",
            "563/563 [==============================] - 116s 206ms/step - loss: 0.3059 - accuracy: 0.8811 - val_loss: 0.5991 - val_accuracy: 0.7864\n",
            "Epoch 5/5\n",
            "563/563 [==============================] - 117s 208ms/step - loss: 0.2351 - accuracy: 0.9116 - val_loss: 0.7288 - val_accuracy: 0.7616\n",
            "WARNING:tensorflow:From /usr/local/lib/python3.6/dist-packages/tensorflow/python/training/tracking/tracking.py:111: Model.state_updates (from tensorflow.python.keras.engine.training) is deprecated and will be removed in a future version.\n",
            "Instructions for updating:\n",
            "This property should not be used in TensorFlow 2.0, as updates are applied automatically.\n",
            "WARNING:tensorflow:From /usr/local/lib/python3.6/dist-packages/tensorflow/python/training/tracking/tracking.py:111: Layer.updates (from tensorflow.python.keras.engine.base_layer) is deprecated and will be removed in a future version.\n",
            "Instructions for updating:\n",
            "This property should not be used in TensorFlow 2.0, as updates are applied automatically.\n",
            "INFO:tensorflow:Assets written to: drive/MyDrive/Colab Notebooks/datascience-final/output/model-201611306/assets\n"
          ],
          "name": "stdout"
        }
      ]
    },
    {
      "cell_type": "code",
      "metadata": {
        "id": "0C9rkTpggUlo"
      },
      "source": [
        "import matplotlib.pyplot as plt\n",
        "\n",
        "\n",
        "def plot_loss_curve(history):\n",
        "    plt.plot(history['loss'])\n",
        "    plt.plot(history['val_loss'])\n",
        "    plt.title('model loss')\n",
        "    plt.ylabel('loss')\n",
        "    plt.xlabel('epoch')\n",
        "    plt.legend(['train', 'test'], loc='upper right')\n",
        "    plt.show()"
      ],
      "execution_count": null,
      "outputs": []
    },
    {
      "cell_type": "code",
      "metadata": {
        "colab": {
          "base_uri": "https://localhost:8080/",
          "height": 295
        },
        "id": "neLiixjGgfgO",
        "outputId": "544fad9e-b552-4a22-e1e3-7f16194d6831"
      },
      "source": [
        "plot_loss_curve(history.history)"
      ],
      "execution_count": null,
      "outputs": [
        {
          "output_type": "display_data",
          "data": {
            "image/png": "[encoded data removed]",
            "text/plain": [
              "<Figure size 432x288 with 1 Axes>"
            ]
          },
          "metadata": {
            "tags": [],
            "needs_background": "light"
          }
        }
      ]
    },
    {
      "cell_type": "markdown",
      "metadata": {
        "id": "V2mqvOBY-kV7"
      },
      "source": [
        "## 4. Load Pretrained Model\n",
        "3 에서 학습시킨 모델을 로드"
      ]
    },
    {
      "cell_type": "code",
      "metadata": {
        "colab": {
          "base_uri": "https://localhost:8080/"
        },
        "id": "xCxvv_6CcMIq",
        "outputId": "d9af9b78-81a9-44b7-ad59-09be66ff0829"
      },
      "source": [
        "from tensorflow.keras.models import load_model\n",
        "\n",
        "model = load_model('drive/MyDrive/Colab Notebooks/datascience-final/output/model-201611306')\n",
        "\n",
        "model.summary()"
      ],
      "execution_count": null,
      "outputs": [
        {
          "output_type": "stream",
          "text": [
            "Model: \"sequential\"\n",
            "_________________________________________________________________\n",
            "Layer (type)                 Output Shape              Param #   \n",
            "=================================================================\n",
            "conv_layer1 (Conv2D)         (None, 298, 298, 16)      448       \n",
            "_________________________________________________________________\n",
            "pool_layer1 (MaxPooling2D)   (None, 149, 149, 16)      0         \n",
            "_________________________________________________________________\n",
            "conv_layer2 (Conv2D)         (None, 148, 148, 16)      1040      \n",
            "_________________________________________________________________\n",
            "pool_layer2 (MaxPooling2D)   (None, 74, 74, 16)        0         \n",
            "_________________________________________________________________\n",
            "conv_layer3 (Conv2D)         (None, 72, 72, 16)        2320      \n",
            "_________________________________________________________________\n",
            "pool_layer3 (MaxPooling2D)   (None, 36, 36, 16)        0         \n",
            "_________________________________________________________________\n",
            "flatten (Flatten)            (None, 20736)             0         \n",
            "_________________________________________________________________\n",
            "dense (Dense)                (None, 16)                331792    \n",
            "_________________________________________________________________\n",
            "dense_1 (Dense)              (None, 32)                544       \n",
            "_________________________________________________________________\n",
            "output_layer (Dense)         (None, 3)                 99        \n",
            "=================================================================\n",
            "Total params: 336,243\n",
            "Trainable params: 336,243\n",
            "Non-trainable params: 0\n",
            "_________________________________________________________________\n"
          ],
          "name": "stdout"
        }
      ]
    },
    {
      "cell_type": "markdown",
      "metadata": {
        "id": "bsEbsgpR-qjb"
      },
      "source": [
        "## 5. Metrics 측정\n",
        "테스트 데이터에 대한 `Test Accuracy`, `Macro F1`, `Classification Report` 를 구하여 출력"
      ]
    },
    {
      "cell_type": "code",
      "metadata": {
        "colab": {
          "base_uri": "https://localhost:8080/"
        },
        "id": "bk9u1iEjzItM",
        "outputId": "dbe8e8ea-bcf7-47df-8078-1128073d55ef"
      },
      "source": [
        "test_y = tf.constant([-1], dtype='int64')\n",
        "predictions = tf.constant([-1], dtype='int64')\n",
        "\n",
        "for source, target in test_data:\n",
        "    batch_predictions = model.predict(source, batch_size=32)\n",
        "    test_y = tf.concat([test_y, tf.argmax(target, axis=1)], axis=0)\n",
        "    predictions = tf.concat([predictions, tf.argmax(batch_predictions, axis=1)], axis=0)\n",
        "\n",
        "print(test_y.shape)\n",
        "print(predictions.shape)"
      ],
      "execution_count": null,
      "outputs": [
        {
          "output_type": "stream",
          "text": [
            "(9001,)\n",
            "(9001,)\n"
          ],
          "name": "stdout"
        }
      ]
    },
    {
      "cell_type": "code",
      "metadata": {
        "colab": {
          "base_uri": "https://localhost:8080/"
        },
        "id": "fknnPBWZzXyj",
        "outputId": "d682e951-9774-4e85-e052-f99a2061c7fe"
      },
      "source": [
        "from sklearn.metrics import accuracy_score, classification_report\n",
        "\n",
        "print('Test Accuracy: {:.2%}'.format(accuracy_score(test_y[1:], predictions[1:])))\n",
        "print('Classification Report: \\n{}'.format(classification_report(test_y[1:], predictions[1:])))"
      ],
      "execution_count": null,
      "outputs": [
        {
          "output_type": "stream",
          "text": [
            "Test Accuracy: 76.16%\n",
            "Classification Report: \n",
            "              precision    recall  f1-score   support\n",
            "\n",
            "           0       0.75      0.47      0.58      1987\n",
            "           1       0.84      0.93      0.88      3960\n",
            "           2       0.67      0.73      0.70      3053\n",
            "\n",
            "    accuracy                           0.76      9000\n",
            "   macro avg       0.75      0.71      0.72      9000\n",
            "weighted avg       0.76      0.76      0.75      9000\n",
            "\n"
          ],
          "name": "stdout"
        }
      ]
    },
    {
      "cell_type": "markdown",
      "metadata": {
        "id": "K8pvXfxbAjCf"
      },
      "source": [
        "## 6. 시연"
      ]
    },
    {
      "cell_type": "code",
      "metadata": {
        "id": "Z3pIeFSz5JX1"
      },
      "source": [
        ""
      ],
      "execution_count": null,
      "outputs": []
    }
  ]
}